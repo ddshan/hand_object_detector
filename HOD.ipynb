{
  "nbformat": 4,
  "nbformat_minor": 0,
  "metadata": {
    "colab": {
      "name": "Untitled0.ipynb",
      "provenance": [],
      "authorship_tag": "ABX9TyMmu05OtGzPDCvc5kEZmDOo",
      "include_colab_link": true
    },
    "kernelspec": {
      "name": "python3",
      "display_name": "Python 3"
    },
    "accelerator": "GPU"
  },
  "cells": [
    {
      "cell_type": "markdown",
      "metadata": {
        "id": "view-in-github",
        "colab_type": "text"
      },
      "source": [
        "<a href=\"https://colab.research.google.com/github/happyCodingSusan/hand_object_detector/blob/master/HOD.ipynb\" target=\"_parent\"><img src=\"https://colab.research.google.com/assets/colab-badge.svg\" alt=\"Open In Colab\"/></a>"
      ]
    },
    {
      "cell_type": "code",
      "metadata": {
        "id": "xR2RAJUueB3H",
        "colab_type": "code",
        "colab": {}
      },
      "source": [
        "!git clone https://github.com/happyCodingSusan/hand_object_detector.git\n",
        "!apt install python3.6 python-pip\n",
        "!pip install pytorch=1.0.1 torchvision cudatoolkit=10.0 -c pytorch\n",
        "!pip install -r requirements.txt\n",
        "import os\n",
        "os.chdir('hand_object_detector')\n",
        "os.chdir('lib')\n",
        "!python setup.py build develop\n"
      ],
      "execution_count": null,
      "outputs": []
    },
    {
      "cell_type": "code",
      "metadata": {
        "id": "PpDdbXXujQ-3",
        "colab_type": "code",
        "colab": {}
      },
      "source": [
        "os.chdir('..')"
      ],
      "execution_count": 6,
      "outputs": []
    },
    {
      "cell_type": "code",
      "metadata": {
        "id": "QKQEaTTpkUjG",
        "colab_type": "code",
        "colab": {}
      },
      "source": [
        "os.getcwd()"
      ],
      "execution_count": null,
      "outputs": []
    },
    {
      "cell_type": "code",
      "metadata": {
        "id": "iy_c5B4Lkxxs",
        "colab_type": "code",
        "colab": {}
      },
      "source": [
        "os.listdir()"
      ],
      "execution_count": null,
      "outputs": []
    },
    {
      "cell_type": "code",
      "metadata": {
        "id": "s-VU6mTvlGCM",
        "colab_type": "code",
        "colab": {}
      },
      "source": [
        "os.chdir('hand_object_detector')\n"
      ],
      "execution_count": null,
      "outputs": []
    },
    {
      "cell_type": "code",
      "metadata": {
        "id": "a43SYAVolPV1",
        "colab_type": "code",
        "colab": {}
      },
      "source": [
        "os.listdir()"
      ],
      "execution_count": null,
      "outputs": []
    },
    {
      "cell_type": "code",
      "metadata": {
        "id": "Tczd37hslb7G",
        "colab_type": "code",
        "colab": {}
      },
      "source": [
        "os.getcwd()"
      ],
      "execution_count": null,
      "outputs": []
    },
    {
      "cell_type": "code",
      "metadata": {
        "id": "mCEhP0Talqhk",
        "colab_type": "code",
        "colab": {}
      },
      "source": [
        "os.getcwd()\n"
      ],
      "execution_count": null,
      "outputs": []
    },
    {
      "cell_type": "code",
      "metadata": {
        "id": "RELOqtT4mOE_",
        "colab_type": "code",
        "colab": {}
      },
      "source": [
        "!mkdir models\n",
        "os.chdir('models')\n",
        "!mkdir res101_handobj_100K\n",
        "os.chdir('res101_handobj_100K')\n",
        "!mkdir pascal_voc\n",
        "os.chdir('..')\n",
        "os.chdir('..')\n",
        "os.getcwd()"
      ],
      "execution_count": null,
      "outputs": []
    },
    {
      "cell_type": "code",
      "metadata": {
        "id": "rlOih1QWnonU",
        "colab_type": "code",
        "colab": {}
      },
      "source": [
        "from google.colab import files\n",
        "uploaded = files.upload()\n",
        "\n",
        "for fn in uploaded.keys():\n",
        "  print('User uploaded file \"{name}\" with length {length} bytes'.format(\n",
        "      name=fn, length=len(uploaded[fn])))"
      ],
      "execution_count": null,
      "outputs": []
    },
    {
      "cell_type": "code",
      "metadata": {
        "id": "ytMCo-GInDFI",
        "colab_type": "code",
        "colab": {}
      },
      "source": [
        "!mv faster_rcnn_1_8_89999 models/res101_handobj_100K/pascal_voc"
      ],
      "execution_count": null,
      "outputs": []
    }
  ]
}